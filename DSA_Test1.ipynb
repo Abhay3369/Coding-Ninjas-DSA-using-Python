{
 "cells": [
  {
   "cell_type": "markdown",
   "metadata": {},
   "source": [
    "<h2>Does s contain t ?</h2>\n",
    "\n",
    "Given two string s and t, write a function to check if s contains all characters of t (in the same order as they are in string t).\n",
    "\n",
    "Return true or false.\n",
    "\n",
    "Do it recursively.\n",
    "\n",
    "E.g. : s = “abchjsgsuohhdhyrikkknddg” contains all characters of t=”coding” in the same order. So function will return true.\n",
    "\n",
    "Sample Input 1 :<br>\n",
    "abchjsgsuohhdhyrikkknddg<br>\n",
    "coding<br>\n",
    "\n",
    "Sample Output 1 :<br>\n",
    "true\n"
   ]
  },
  {
   "cell_type": "code",
   "execution_count": 2,
   "metadata": {},
   "outputs": [
    {
     "name": "stdout",
     "output_type": "stream",
     "text": [
      "true\n"
     ]
    }
   ],
   "source": [
    "def containST(string1,string2):\n",
    "    if len(string2) == 0:\n",
    "        return True\n",
    "    if len(string1) == 0:\n",
    "        return False\n",
    "    if(string1[0] == string2[0]):\n",
    "        return containST(string1[1:],string2[1:])\n",
    "    else:\n",
    "        return containST(string1[1:],string2)\n",
    "\n",
    "string1 = input()\n",
    "string2 = input()\n",
    "\n",
    "ans = containST(string1,string2)\n",
    "if ans is True:\n",
    "    print('true')\n",
    "else:\n",
    "    print('false')"
   ]
  },
  {
   "cell_type": "markdown",
   "metadata": {},
   "source": [
    "<h2>Maximum Profit on App\n",
    "</h2>\n",
    "\n",
    "You have made a smartphone app and want to set its subscription price such that the profit earned is maximised. There are certain users who will subscribe to your app only if their budget is greater than or equal to your price.\n",
    "\n",
    "You will be provided with a list of size N having budgets of subscribers and you need to return the maximum profit that you can earn.\n",
    "\n",
    "\n",
    "Lets say you decide that price of your app is Rs. x and there are N number of subscribers. So maximum profit you can earn is :\n",
    "\n",
    "<h4> m * x\n",
    "</h4>\n",
    "\n",
    "where m is total number of subscribers whose budget is greater than or equal to x.\n",
    "\n",
    "Sample Input 1 :<br>\n",
    "4<br>\n",
    "30 20 53 14<br>\n",
    "\n",
    "Sample Output 1 :\n",
    "60\n",
    "\n",
    "Sample Output 1 Explanation :<br>\n",
    "Price of your app should be Rs. 20 or Rs. 30. For both prices, you can get the profit Rs. 60."
   ]
  },
  {
   "cell_type": "code",
   "execution_count": 4,
   "metadata": {},
   "outputs": [
    {
     "name": "stdout",
     "output_type": "stream",
     "text": [
      "60\n"
     ]
    }
   ],
   "source": [
    "# multiply arr[i] increasing with num decreasing which values will be greater then print\n",
    "# that value\n",
    "num=int(input())\n",
    "arr= list(map(int,input().split()))\n",
    "m=0\n",
    "arr.sort()\n",
    "for i in arr:\n",
    "    if m<i*num:\n",
    "        m=i*num\n",
    "    num=num-1\n",
    "print(m)"
   ]
  },
  {
   "cell_type": "markdown",
   "metadata": {},
   "source": [
    "<h2>Split Array\n",
    "</h2>\n",
    "\n",
    "Given an integer array A of size N, check if the input array can be splitted in two parts such that -\n",
    "\n",
    "- Sum of both parts is equal<br>\n",
    "- All elements in the input, which are divisible by 5 should be in same group.<br>\n",
    "- All elements in the input, which are divisible by 3 (but not divisible by 5) should be in other group.<br>\n",
    "- Elements which are neither divisible by 5 nor by 3, can be put in any group.<br>\n",
    "\n",
    "Groups can be made with any set of elements, i.e. elements need not to be continuous. And you need to consider each and every element of input array in some group.<br>\n",
    "\n",
    "Return true, if array can be split according to the above rules, else return false.\n",
    "<br>\n",
    "Note : You will get marks only if all the test cases are passed.\n",
    "\n",
    "Sample Input 1 :<br>\n",
    "2<br>\n",
    "1 2<br>\n",
    "Sample Output 1 :<br>\n",
    "false\n",
    "\n"
   ]
  },
  {
   "cell_type": "code",
   "execution_count": 23,
   "metadata": {},
   "outputs": [
    {
     "name": "stdout",
     "output_type": "stream",
     "text": [
      "false\n"
     ]
    }
   ],
   "source": [
    "def split(arr,i,sum):\n",
    "    if  i == len(arr):\n",
    "        if sum == 0:\n",
    "            return True\n",
    "        else:\n",
    "            return False\n",
    "    \n",
    "    if ((arr[i]%5) == 0):\n",
    "        return split(arr,i+1,sum+arr[i])\n",
    "    elif ((arr[i]%3) == 0):\n",
    "        return split(arr,i+1,sum-arr[i])\n",
    "    else:\n",
    "        ans1 = split(arr,i+1,sum+arr[i])\n",
    "        ans2 = split(arr,i+1,sum-arr[i])\n",
    "\n",
    "n = input()\n",
    "arr = [int(x) for x in input().split()]\n",
    "ans = split(arr,0,0)\n",
    "if ans is True:\n",
    "    print('true')\n",
    "else:\n",
    "    print('false')"
   ]
  },
  {
   "cell_type": "markdown",
   "metadata": {},
   "source": [
    "Recurrence Relation for Tower of Hanoi Problem\n",
    "\n",
    "The recurrence relation capturing the optimal execution time of the Towers of Hanoi problem with n discs is :\n",
    "\n",
    "<h2>T(n) = 2T(n-1) + 1</h2>\n",
    "\n"
   ]
  },
  {
   "cell_type": "markdown",
   "metadata": {},
   "source": [
    "Complexity of different operations in a sorted array.\n",
    "\n",
    "Which of the following operations is not O(1) for an array of sorted data. You may assume that array elements are distinct.\n",
    "\n",
    "<h2>Delete an Element</h2>"
   ]
  },
  {
   "cell_type": "markdown",
   "metadata": {},
   "source": [
    "Complexity of a Recurrence Relation\n",
    "\n",
    "Which one of the following correctly determines the solution of the recurrence relation with T(1) = 1?\n",
    "T(n) = 2T(n/2) + Logn\n",
    "\n",
    "<h2>O(N)</h2>"
   ]
  }
 ],
 "metadata": {
  "kernelspec": {
   "display_name": "Python 3.10.4 64-bit",
   "language": "python",
   "name": "python3"
  },
  "language_info": {
   "codemirror_mode": {
    "name": "ipython",
    "version": 3
   },
   "file_extension": ".py",
   "mimetype": "text/x-python",
   "name": "python",
   "nbconvert_exporter": "python",
   "pygments_lexer": "ipython3",
   "version": "3.10.4"
  },
  "orig_nbformat": 4,
  "vscode": {
   "interpreter": {
    "hash": "a42ccb73e7d9bfdf27e036f1d2b8b681e55fc0743cc5586bc2474d4a60f4b886"
   }
  }
 },
 "nbformat": 4,
 "nbformat_minor": 2
}
