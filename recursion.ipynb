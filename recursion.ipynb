{
 "cells": [
  {
   "cell_type": "markdown",
   "metadata": {},
   "source": [
    "<h2>Power of a number</h2>\n",
    "Write a program to find x to the power n (i.e. x^n). Take x and n from the user. You need to print the answer.\n",
    "Note : For this question, you can assume that 0 raised to the power of 0 is 1\n",
    "\n",
    "Sample Input 1 :<br>\n",
    " 3 4<br>\n",
    "Sample Output 1 :<br>\n",
    "81"
   ]
  },
  {
   "cell_type": "code",
   "execution_count": 4,
   "metadata": {},
   "outputs": [
    {
     "name": "stdout",
     "output_type": "stream",
     "text": [
      "81\n"
     ]
    }
   ],
   "source": [
    "# print(3**4)\n",
    "n = 3\n",
    "sum = 1\n",
    "for i in range(4):\n",
    "    sum *= n\n",
    "print(sum)"
   ]
  },
  {
   "cell_type": "code",
   "execution_count": 17,
   "metadata": {},
   "outputs": [
    {
     "data": {
      "text/plain": [
       "81"
      ]
     },
     "execution_count": 17,
     "metadata": {},
     "output_type": "execute_result"
    }
   ],
   "source": [
    "def power(x,n):\n",
    "    if n == 0:\n",
    "        return 1\n",
    "    else:\n",
    "        return (x*power(x,n-1))\n",
    "\n",
    "x,y = map(int,input().split())\n",
    "power(x,n)\n"
   ]
  },
  {
   "cell_type": "markdown",
   "metadata": {},
   "source": [
    "<h2>Sum Of Array</h2>\n",
    "Given an array of length N, you need to find and return the sum of all elements of the array.\n",
    "\n",
    "Sample Input 1 :<br>\n",
    "3<br>\n",
    "9 8 9<br>\n",
    "Sample Output 1 :<br>\n",
    "26\n"
   ]
  },
  {
   "cell_type": "code",
   "execution_count": 19,
   "metadata": {},
   "outputs": [
    {
     "data": {
      "text/plain": [
       "26"
      ]
     },
     "execution_count": 19,
     "metadata": {},
     "output_type": "execute_result"
    }
   ],
   "source": [
    "def sumArray(arr):\n",
    "    if len(arr) == 1:\n",
    "        return arr[0]\n",
    "    else:\n",
    "        return arr[0] + sumArray(arr[1:])\n",
    "\n",
    "n = int(input())\n",
    "arr = [int(x) for x in input().split()]\n",
    "sumArray(arr)"
   ]
  },
  {
   "cell_type": "markdown",
   "metadata": {},
   "source": [
    "<h2>First Index of Number - Question\n",
    "</h2>\n",
    "Given an array of length N and an integer x, you need to find and return the first index of integer x present in the array. Return -1 if it is not present in the array.\n",
    "\n",
    "First index means, the index of first occurrence of x in the input array.\n",
    "\n",
    "Do this recursively. Indexing in the array starts from 0.\n",
    "\n",
    "Sample Input :<br>\n",
    "4<br>\n",
    "9 8 10 8<br>\n",
    "8<br>\n",
    "Sample Output :<br>\n",
    "1"
   ]
  },
  {
   "cell_type": "code",
   "execution_count": 20,
   "metadata": {},
   "outputs": [
    {
     "data": {
      "text/plain": [
       "1"
      ]
     },
     "execution_count": 20,
     "metadata": {},
     "output_type": "execute_result"
    }
   ],
   "source": [
    "def firstIndexNumber(arr,x):\n",
    "    n = len(arr)\n",
    "    if n == 0:\n",
    "        return -1\n",
    "    if arr[0] == x:\n",
    "        return 0\n",
    "    firstIndex = firstIndexNumber(arr[1:],x)\n",
    "\n",
    "    if firstIndex == -1:\n",
    "        return -1\n",
    "    else:\n",
    "        return firstIndex + 1\n",
    "\n",
    "\n",
    "n = int(input())\n",
    "arr = [int(x) for x in input().split()]\n",
    "x = int(input())\n",
    "\n",
    "firstIndexNumber(arr,x)"
   ]
  },
  {
   "cell_type": "markdown",
   "metadata": {},
   "source": [
    "<h2>Remove X</h2>\n",
    "\n",
    "Given a string, compute recursively a new string where all 'x' chars have been removed.\n",
    "\n",
    "Sample Input 1 :<br>\n",
    "xaxb<br>\n",
    "Sample Output 1:<br>\n",
    "ab\n"
   ]
  },
  {
   "cell_type": "code",
   "execution_count": 43,
   "metadata": {},
   "outputs": [
    {
     "name": "stdout",
     "output_type": "stream",
     "text": [
      "ab\n"
     ]
    }
   ],
   "source": [
    "def removeX(arr):\n",
    "    n = len(arr)\n",
    "    if n == 0:\n",
    "        return arr\n",
    "    small = removeX(arr[1:])\n",
    "    if arr[0] == 'x':\n",
    "        return small\n",
    "    else:\n",
    "        return arr[0] + small\n",
    "\n",
    "arr = input()\n",
    "print(removeX(arr))\n"
   ]
  },
  {
   "cell_type": "markdown",
   "metadata": {},
   "source": [
    "<h2>Remove Duplicates Recursively\n",
    "</h2>\n",
    "\n",
    "Given a string S, remove consecutive duplicates from it recursively.\n",
    "\n",
    "Sample Input 1 :<br>\n",
    "aabccba<br>\n",
    "Sample Output 1 :<br>\n",
    "abcba"
   ]
  },
  {
   "cell_type": "code",
   "execution_count": 17,
   "metadata": {},
   "outputs": [
    {
     "name": "stdout",
     "output_type": "stream",
     "text": [
      "abcba\n"
     ]
    }
   ],
   "source": [
    "def removeConsecutiveDuplicates(string):\n",
    "    n = len(string)\n",
    "    if n == 0 or n == 1:\n",
    "        return string\n",
    "    if string[0] == string[1]:\n",
    "        return removeConsecutiveDuplicates(string[1: ])\n",
    "    else:\n",
    "        return string[0]+removeConsecutiveDuplicates(string[1: ])\n",
    "\n",
    "# Main\n",
    "string = input().strip()\n",
    "print(removeConsecutiveDuplicates(string))\n"
   ]
  },
  {
   "cell_type": "markdown",
   "metadata": {},
   "source": [
    "<h2>Merge Sort Code\n",
    "</h2>\n",
    "\n",
    "Sort an array A using Merge Sort.\n",
    "Change in the input array itself. So no need to return or print anything.\n",
    "\n",
    "Sample Input 1 :<br>\n",
    "6 <br>\n",
    "2 6 8 5 4 3<br>\n",
    "Sample Output 1 :<br>\n",
    "2 3 4 5 6 8"
   ]
  },
  {
   "cell_type": "code",
   "execution_count": 1,
   "metadata": {},
   "outputs": [
    {
     "name": "stdout",
     "output_type": "stream",
     "text": [
      "2 3 4 5 6 8\n"
     ]
    }
   ],
   "source": [
    "def merge(left,right,arr):\n",
    "    i,j,k = 0,0,0\n",
    "    while i<len(left) and j< len(right):\n",
    "        if left[i] < right[j]:\n",
    "            arr[k] = left[i]\n",
    "            k += 1\n",
    "            i += 1\n",
    "\n",
    "        else:\n",
    "            arr[k] = right[j]\n",
    "            k += 1\n",
    "            j += 1\n",
    "    \n",
    "    while i < len(left):\n",
    "        arr[k] = left[i]\n",
    "        k += 1\n",
    "        i += 1\n",
    "    \n",
    "    while j < len(right):\n",
    "        arr[k] = right[j]\n",
    "        k += 1\n",
    "        j += 1\n",
    "\n",
    "def mergeSort(arr):\n",
    "    n = len(arr)\n",
    "    \n",
    "    if  n== 0 or n == 1:\n",
    "        return\n",
    "    \n",
    "    mid = n//2\n",
    "    left =arr[0:mid]\n",
    "    right = arr[mid:]\n",
    "    mergeSort(left)\n",
    "    mergeSort(right)\n",
    "    merge(left,right,arr)\n",
    "\n",
    "\n",
    "n = int(input())\n",
    "arr = list(int(i) for i in input().strip().split(' '))\n",
    "mergeSort(arr)\n",
    "print(*arr)\n",
    "    "
   ]
  },
  {
   "cell_type": "markdown",
   "metadata": {},
   "source": [
    "<h2>Quick Sort Code\n",
    "</h2>\n",
    "Sort an array A using Quick Sort.\n",
    "Change in the input array itself. So no need to return or print anything.\n",
    "\n",
    "\n",
    "Sample Input 1 :<br>\n",
    "6 <br>\n",
    "2 6 8 5 4 3<br>\n",
    "Sample Output 1 :<br>\n",
    "2 3 4 5 6 8"
   ]
  },
  {
   "cell_type": "code",
   "execution_count": 15,
   "metadata": {},
   "outputs": [
    {
     "name": "stdout",
     "output_type": "stream",
     "text": [
      "2 3 4 5 6 8\n"
     ]
    }
   ],
   "source": [
    "def partition(array, low, high):\n",
    "  pivot = array[high]\n",
    "  i = low - 1\n",
    "\n",
    "  for j in range(low, high):\n",
    "    if array[j] <= pivot:\n",
    "      i = i + 1\n",
    "      (array[i], array[j]) = (array[j], array[i])\n",
    "  (array[i + 1], array[high]) = (array[high], array[i + 1])\n",
    " \n",
    "  return i + 1\n",
    " \n",
    "def quick_sort(array, low, high):\n",
    "  if low < high:\n",
    "    pi = partition(array, low, high)\n",
    "    quick_sort(array, low, pi - 1)\n",
    "    quick_sort(array, pi + 1, high)\n",
    " \n",
    "   \n",
    "         \n",
    "n = int(input())\n",
    "array = [int(x) for x in input().split()]\n",
    "quick_sort(array, 0, len(array) - 1)\n",
    "print(*array)\n"
   ]
  },
  {
   "cell_type": "markdown",
   "metadata": {},
   "source": [
    "<h2>Tower Of Hanoi - Problem\n",
    "</h2>\n",
    "\n",
    "Tower of Hanoi is a mathematical puzzle where we have three rods and n disks.<br>\n",
    "The objective of the puzzle is to move all disks from source rod to destination rod using third rod (say auxiliary). The rules are :\n",
    "\n",
    "1) Only one disk can be moved at a time.<br>\n",
    "2) A disk can be moved only if it is on the top of a rod.<br>\n",
    "3) No disk can be placed on the top of a smaller disk.<br>\n",
    "\n",
    "Print the steps required to move n disks from source rod to destination rod.\n",
    "Source Rod is named as 'a', auxiliary rod as 'b' and destination rod as 'c'.\n",
    "\n",
    "Sample Input 1 :<br>\n",
    "2<br>\n",
    "Sample Output 1 :<br>\n",
    "a b<br>\n",
    "a c<br>\n",
    "b c<br>"
   ]
  },
  {
   "cell_type": "code",
   "execution_count": 16,
   "metadata": {},
   "outputs": [
    {
     "name": "stdout",
     "output_type": "stream",
     "text": [
      "a b\n",
      "a c\n",
      "b c\n"
     ]
    }
   ],
   "source": [
    "def towerofhanoi(n, source, aux, dest):\n",
    "    if n == 0:\n",
    "        return\n",
    "    if n == 1:\n",
    "        print(source, dest)\n",
    "        return\n",
    "    towerofhanoi(n-1, source, dest, aux)\n",
    "    print(source, dest)\n",
    "    towerofhanoi(n-1, aux, source, dest)\n",
    "\n",
    "\n",
    "n = int(input())\n",
    "towerofhanoi(n, 'a', 'b', 'c')"
   ]
  }
 ],
 "metadata": {
  "kernelspec": {
   "display_name": "Python 3.10.4 64-bit",
   "language": "python",
   "name": "python3"
  },
  "language_info": {
   "codemirror_mode": {
    "name": "ipython",
    "version": 3
   },
   "file_extension": ".py",
   "mimetype": "text/x-python",
   "name": "python",
   "nbconvert_exporter": "python",
   "pygments_lexer": "ipython3",
   "version": "3.10.4"
  },
  "orig_nbformat": 4,
  "vscode": {
   "interpreter": {
    "hash": "a42ccb73e7d9bfdf27e036f1d2b8b681e55fc0743cc5586bc2474d4a60f4b886"
   }
  }
 },
 "nbformat": 4,
 "nbformat_minor": 2
}
